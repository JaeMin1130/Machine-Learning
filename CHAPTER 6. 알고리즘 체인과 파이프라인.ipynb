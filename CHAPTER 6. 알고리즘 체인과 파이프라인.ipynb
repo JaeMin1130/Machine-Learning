{
 "cells": [
  {
   "cell_type": "code",
   "execution_count": 3,
   "metadata": {},
   "outputs": [],
   "source": [
    "import numpy as np\n",
    "import pandas as pd\n",
    "import matplotlib.pyplot as plt\n",
    "import seaborn as sns\n",
    "plt.style.use('seaborn')\n",
    "sns.set(font_scale=1)\n",
    "\n",
    "import missingno as msno    # 누락값 표시\n",
    "import warnings\n",
    "import mglearn\n",
    "warnings.filterwarnings('ignore')  # 워닝 무시\n",
    "from sklearn.model_selection import train_test_split\n",
    "%matplotlib inline"
   ]
  },
  {
   "cell_type": "code",
   "execution_count": 4,
   "metadata": {},
   "outputs": [
    {
     "data": {
      "text/plain": [
       "0.972027972027972"
      ]
     },
     "execution_count": 4,
     "metadata": {},
     "output_type": "execute_result"
    }
   ],
   "source": [
    "from sklearn.svm import SVC\n",
    "from sklearn.datasets import load_breast_cancer\n",
    "from sklearn.model_selection import train_test_split\n",
    "from sklearn.preprocessing import MinMaxScaler\n",
    "\n",
    "cancer = load_breast_cancer()\n",
    "X_train, X_test, y_train, y_test = train_test_split(cancer.data, cancer.target, random_state=0)\n",
    "scaler = MinMaxScaler().fit(X_train)\n",
    "X_train_scaled = scaler.transform(X_train)\n",
    "X_test_scaled = scaler.transform(X_test)\n",
    "svm = SVC()\n",
    "svm.fit(X_train_scaled, y_train)\n",
    "svm.score(X_test_scaled, y_test)"
   ]
  },
  {
   "cell_type": "markdown",
   "metadata": {},
   "source": [
    "## 데이터 전처리와 매개변수 선택"
   ]
  },
  {
   "cell_type": "code",
   "execution_count": 5,
   "metadata": {},
   "outputs": [
    {
     "data": {
      "text/plain": [
       "{'mean_fit_time': array([0.01037264, 0.00917602, 0.00737982, 0.00798421, 0.00838394,\n",
       "        0.00817623, 0.00757837, 0.00737357, 0.00757494, 0.00718017,\n",
       "        0.00798435, 0.01196861, 0.00878396, 0.00778031, 0.00857577,\n",
       "        0.00496907, 0.00877662, 0.01157064, 0.00817676, 0.00719438,\n",
       "        0.00419559, 0.00319061, 0.00955062, 0.01236668, 0.00776386,\n",
       "        0.00418997, 0.00260601, 0.0037837 , 0.01036425, 0.01258116,\n",
       "        0.00398598, 0.00299306, 0.00278964, 0.00378952, 0.01436152,\n",
       "        0.01217389]),\n",
       " 'std_fit_time': array([1.19614819e-03, 1.32410314e-03, 1.01752328e-03, 6.32192700e-04,\n",
       "        7.85502571e-04, 7.56811380e-04, 1.00931714e-03, 1.01597867e-03,\n",
       "        4.85250766e-04, 7.46562110e-04, 6.54943056e-04, 1.11269339e-03,\n",
       "        1.82083818e-03, 7.26103397e-04, 1.86372454e-03, 1.90701482e-05,\n",
       "        1.32477943e-03, 1.35414626e-03, 9.76521642e-04, 9.75264358e-04,\n",
       "        1.17027921e-03, 7.55652040e-04, 1.18434246e-03, 8.18285222e-04,\n",
       "        1.18666681e-03, 7.36990556e-04, 8.14404386e-04, 9.70984490e-04,\n",
       "        8.03205483e-04, 5.01492530e-04, 1.09484650e-03, 6.32262812e-04,\n",
       "        7.45576436e-04, 1.16451958e-03, 1.35222015e-03, 7.55333193e-04]),\n",
       " 'mean_score_time': array([0.00578685, 0.0045887 , 0.00478816, 0.00498042, 0.00378208,\n",
       "        0.00340037, 0.00379086, 0.00359688, 0.00439296, 0.00359893,\n",
       "        0.00378914, 0.00497742, 0.00359015, 0.00478649, 0.00398874,\n",
       "        0.00359201, 0.004387  , 0.00578265, 0.00398898, 0.00358362,\n",
       "        0.00218697, 0.00159698, 0.00559278, 0.00537763, 0.00379705,\n",
       "        0.00200596, 0.00119357, 0.00139575, 0.00479355, 0.00517111,\n",
       "        0.0022017 , 0.0015944 , 0.00119987, 0.00159655, 0.00478644,\n",
       "        0.00637722]),\n",
       " 'std_score_time': array([1.16776732e-03, 2.24190075e-03, 9.78889164e-04, 2.08012617e-03,\n",
       "        3.95766637e-04, 7.76114863e-04, 7.57516678e-04, 4.93406304e-04,\n",
       "        7.95438769e-04, 8.13166248e-04, 7.47616760e-04, 1.25685415e-03,\n",
       "        7.79326091e-04, 1.31147085e-03, 6.32561757e-04, 4.75590507e-04,\n",
       "        1.35360486e-03, 1.16299876e-03, 1.30587234e-06, 1.01579700e-03,\n",
       "        9.64316598e-04, 7.98846095e-04, 1.01431053e-03, 1.02058060e-03,\n",
       "        1.15898769e-03, 6.37769095e-04, 4.01537813e-04, 7.94746616e-04,\n",
       "        7.39612409e-04, 4.05878579e-04, 4.12495358e-04, 4.88015928e-04,\n",
       "        4.03094923e-04, 4.88013924e-04, 1.16355491e-03, 1.20702154e-03]),\n",
       " 'param_C': masked_array(data=[0.001, 0.001, 0.001, 0.001, 0.001, 0.001, 0.01, 0.01,\n",
       "                    0.01, 0.01, 0.01, 0.01, 0.1, 0.1, 0.1, 0.1, 0.1, 0.1,\n",
       "                    1, 1, 1, 1, 1, 1, 10, 10, 10, 10, 10, 10, 100, 100,\n",
       "                    100, 100, 100, 100],\n",
       "              mask=[False, False, False, False, False, False, False, False,\n",
       "                    False, False, False, False, False, False, False, False,\n",
       "                    False, False, False, False, False, False, False, False,\n",
       "                    False, False, False, False, False, False, False, False,\n",
       "                    False, False, False, False],\n",
       "        fill_value='?',\n",
       "             dtype=object),\n",
       " 'param_gamma': masked_array(data=[0.001, 0.01, 0.1, 1, 10, 100, 0.001, 0.01, 0.1, 1, 10,\n",
       "                    100, 0.001, 0.01, 0.1, 1, 10, 100, 0.001, 0.01, 0.1, 1,\n",
       "                    10, 100, 0.001, 0.01, 0.1, 1, 10, 100, 0.001, 0.01,\n",
       "                    0.1, 1, 10, 100],\n",
       "              mask=[False, False, False, False, False, False, False, False,\n",
       "                    False, False, False, False, False, False, False, False,\n",
       "                    False, False, False, False, False, False, False, False,\n",
       "                    False, False, False, False, False, False, False, False,\n",
       "                    False, False, False, False],\n",
       "        fill_value='?',\n",
       "             dtype=object),\n",
       " 'params': [{'C': 0.001, 'gamma': 0.001},\n",
       "  {'C': 0.001, 'gamma': 0.01},\n",
       "  {'C': 0.001, 'gamma': 0.1},\n",
       "  {'C': 0.001, 'gamma': 1},\n",
       "  {'C': 0.001, 'gamma': 10},\n",
       "  {'C': 0.001, 'gamma': 100},\n",
       "  {'C': 0.01, 'gamma': 0.001},\n",
       "  {'C': 0.01, 'gamma': 0.01},\n",
       "  {'C': 0.01, 'gamma': 0.1},\n",
       "  {'C': 0.01, 'gamma': 1},\n",
       "  {'C': 0.01, 'gamma': 10},\n",
       "  {'C': 0.01, 'gamma': 100},\n",
       "  {'C': 0.1, 'gamma': 0.001},\n",
       "  {'C': 0.1, 'gamma': 0.01},\n",
       "  {'C': 0.1, 'gamma': 0.1},\n",
       "  {'C': 0.1, 'gamma': 1},\n",
       "  {'C': 0.1, 'gamma': 10},\n",
       "  {'C': 0.1, 'gamma': 100},\n",
       "  {'C': 1, 'gamma': 0.001},\n",
       "  {'C': 1, 'gamma': 0.01},\n",
       "  {'C': 1, 'gamma': 0.1},\n",
       "  {'C': 1, 'gamma': 1},\n",
       "  {'C': 1, 'gamma': 10},\n",
       "  {'C': 1, 'gamma': 100},\n",
       "  {'C': 10, 'gamma': 0.001},\n",
       "  {'C': 10, 'gamma': 0.01},\n",
       "  {'C': 10, 'gamma': 0.1},\n",
       "  {'C': 10, 'gamma': 1},\n",
       "  {'C': 10, 'gamma': 10},\n",
       "  {'C': 10, 'gamma': 100},\n",
       "  {'C': 100, 'gamma': 0.001},\n",
       "  {'C': 100, 'gamma': 0.01},\n",
       "  {'C': 100, 'gamma': 0.1},\n",
       "  {'C': 100, 'gamma': 1},\n",
       "  {'C': 100, 'gamma': 10},\n",
       "  {'C': 100, 'gamma': 100}],\n",
       " 'split0_test_score': array([0.62790698, 0.62790698, 0.62790698, 0.62790698, 0.62790698,\n",
       "        0.62790698, 0.62790698, 0.62790698, 0.62790698, 0.62790698,\n",
       "        0.62790698, 0.62790698, 0.62790698, 0.62790698, 0.88372093,\n",
       "        0.89534884, 0.62790698, 0.62790698, 0.62790698, 0.88372093,\n",
       "        0.93023256, 0.97674419, 0.95348837, 0.62790698, 0.88372093,\n",
       "        0.94186047, 0.97674419, 1.        , 0.94186047, 0.62790698,\n",
       "        0.94186047, 0.96511628, 0.97674419, 0.97674419, 0.94186047,\n",
       "        0.62790698]),\n",
       " 'split1_test_score': array([0.63529412, 0.63529412, 0.63529412, 0.63529412, 0.63529412,\n",
       "        0.63529412, 0.63529412, 0.63529412, 0.63529412, 0.63529412,\n",
       "        0.63529412, 0.63529412, 0.63529412, 0.63529412, 0.89411765,\n",
       "        0.96470588, 0.63529412, 0.63529412, 0.63529412, 0.89411765,\n",
       "        0.97647059, 0.97647059, 0.92941176, 0.63529412, 0.89411765,\n",
       "        0.97647059, 0.97647059, 0.96470588, 0.91764706, 0.63529412,\n",
       "        0.97647059, 0.97647059, 0.97647059, 0.94117647, 0.91764706,\n",
       "        0.63529412]),\n",
       " 'split2_test_score': array([0.62352941, 0.62352941, 0.62352941, 0.62352941, 0.62352941,\n",
       "        0.62352941, 0.62352941, 0.62352941, 0.62352941, 0.62352941,\n",
       "        0.62352941, 0.62352941, 0.62352941, 0.62352941, 0.89411765,\n",
       "        0.94117647, 0.62352941, 0.62352941, 0.62352941, 0.89411765,\n",
       "        0.94117647, 0.95294118, 0.90588235, 0.62352941, 0.89411765,\n",
       "        0.94117647, 0.95294118, 0.95294118, 0.89411765, 0.62352941,\n",
       "        0.94117647, 0.95294118, 0.95294118, 0.91764706, 0.89411765,\n",
       "        0.62352941]),\n",
       " 'split3_test_score': array([0.62352941, 0.62352941, 0.62352941, 0.62352941, 0.62352941,\n",
       "        0.62352941, 0.62352941, 0.62352941, 0.62352941, 0.62352941,\n",
       "        0.62352941, 0.62352941, 0.62352941, 0.62352941, 0.90588235,\n",
       "        0.95294118, 0.63529412, 0.62352941, 0.62352941, 0.90588235,\n",
       "        0.96470588, 1.        , 0.95294118, 0.62352941, 0.90588235,\n",
       "        0.96470588, 0.98823529, 0.98823529, 0.94117647, 0.62352941,\n",
       "        0.96470588, 1.        , 1.        , 0.97647059, 0.94117647,\n",
       "        0.62352941]),\n",
       " 'split4_test_score': array([0.62352941, 0.62352941, 0.62352941, 0.62352941, 0.62352941,\n",
       "        0.62352941, 0.62352941, 0.62352941, 0.62352941, 0.62352941,\n",
       "        0.62352941, 0.62352941, 0.62352941, 0.62352941, 0.91764706,\n",
       "        0.97647059, 0.62352941, 0.62352941, 0.62352941, 0.91764706,\n",
       "        0.97647059, 1.        , 0.92941176, 0.62352941, 0.91764706,\n",
       "        0.97647059, 0.98823529, 1.        , 0.92941176, 0.62352941,\n",
       "        0.97647059, 0.98823529, 1.        , 0.95294118, 0.92941176,\n",
       "        0.62352941]),\n",
       " 'mean_test_score': array([0.62675787, 0.62675787, 0.62675787, 0.62675787, 0.62675787,\n",
       "        0.62675787, 0.62675787, 0.62675787, 0.62675787, 0.62675787,\n",
       "        0.62675787, 0.62675787, 0.62675787, 0.62675787, 0.89909713,\n",
       "        0.94612859, 0.62911081, 0.62675787, 0.62675787, 0.89909713,\n",
       "        0.95781122, 0.98123119, 0.93422709, 0.62675787, 0.89909713,\n",
       "        0.9601368 , 0.97652531, 0.98117647, 0.92484268, 0.62675787,\n",
       "        0.9601368 , 0.97655267, 0.98123119, 0.9529959 , 0.92484268,\n",
       "        0.62675787]),\n",
       " 'std_test_score': array([0.00459253, 0.00459253, 0.00459253, 0.00459253, 0.00459253,\n",
       "        0.00459253, 0.00459253, 0.00459253, 0.00459253, 0.00459253,\n",
       "        0.00459253, 0.00459253, 0.00459253, 0.00459253, 0.0116289 ,\n",
       "        0.0279831 , 0.00529566, 0.00459253, 0.00459253, 0.0116289 ,\n",
       "        0.0188742 , 0.01759351, 0.01772576, 0.00459253, 0.0116289 ,\n",
       "        0.01579861, 0.01288805, 0.01911538, 0.01773741, 0.00459253,\n",
       "        0.01579861, 0.01658048, 0.01759351, 0.02237983, 0.01773741,\n",
       "        0.00459253]),\n",
       " 'rank_test_score': array([18, 18, 18, 18, 18, 18, 18, 18, 18, 18, 18, 18, 18, 18, 14, 10, 17,\n",
       "        18, 18, 14,  8,  1, 11, 18, 14,  6,  5,  3, 12, 18,  6,  4,  1,  9,\n",
       "        12, 18])}"
      ]
     },
     "execution_count": 5,
     "metadata": {},
     "output_type": "execute_result"
    }
   ],
   "source": [
    "# 잘못된 코드의 예시\n",
    "from sklearn.model_selection import GridSearchCV\n",
    "\n",
    "param_grid = {'C': [0.001, 0.01, 0.1, 1, 10, 100],\n",
    "               'gamma': [0.001, 0.01, 0.1, 1, 10, 100]}\n",
    "grid = GridSearchCV(SVC(), param_grid=param_grid, cv=5)\n",
    "grid.fit(X_train_scaled, y_train)\n",
    "grid.cv_results_"
   ]
  },
  {
   "cell_type": "markdown",
   "metadata": {},
   "source": [
    "## 파이프라인 구축하기"
   ]
  },
  {
   "cell_type": "code",
   "execution_count": 6,
   "metadata": {},
   "outputs": [
    {
     "data": {
      "text/plain": [
       "0.972027972027972"
      ]
     },
     "execution_count": 6,
     "metadata": {},
     "output_type": "execute_result"
    }
   ],
   "source": [
    "from sklearn.pipeline import Pipeline\n",
    "pipe = Pipeline([('scaler', MinMaxScaler()), ('svm', SVC())])\n",
    "pipe.fit(X_train, y_train)\n",
    "pipe.score(X_test, y_test)"
   ]
  },
  {
   "cell_type": "markdown",
   "metadata": {},
   "source": [
    "## 그리드 서치에 파이프라인 적용하기"
   ]
  },
  {
   "cell_type": "code",
   "execution_count": 7,
   "metadata": {},
   "outputs": [
    {
     "data": {
      "text/plain": [
       "{'svm__C': 1, 'svm__gamma': 1}"
      ]
     },
     "execution_count": 7,
     "metadata": {},
     "output_type": "execute_result"
    }
   ],
   "source": [
    "# 어느 단계의 매개변수인지 같이 입력한다.\n",
    "\n",
    "param_grid = {'svm__C': [0.001, 0.01, 0.1, 1, 10, 100],\n",
    "                'svm__gamma': [0.001, 0.01, 0.1, 1, 10, 100]}\n",
    "grid = GridSearchCV(pipe, param_grid=param_grid, cv=5)\n",
    "grid.fit(X_train, y_train)\n",
    "grid.best_params_                "
   ]
  },
  {
   "cell_type": "markdown",
   "metadata": {},
   "source": [
    "## 파이프라인 인터페이스"
   ]
  },
  {
   "cell_type": "code",
   "execution_count": 8,
   "metadata": {},
   "outputs": [
    {
     "data": {
      "text/plain": [
       "0.9812311901504789"
      ]
     },
     "execution_count": 8,
     "metadata": {},
     "output_type": "execute_result"
    }
   ],
   "source": [
    "from sklearn.pipeline import make_pipeline\n",
    "pipe = make_pipeline(MinMaxScaler(), SVC(C=100))\n",
    "param_grid = {'svc__gamma': [0.001, 0.01, 0.1, 1, 10, 100]}\n",
    "grid = GridSearchCV(pipe, param_grid=param_grid, cv=5)\n",
    "grid.fit(X_train, y_train)\n",
    "grid.best_score_"
   ]
  },
  {
   "cell_type": "code",
   "execution_count": 13,
   "metadata": {},
   "outputs": [
    {
     "data": {
      "text/plain": [
       "array([[ 0.21890244,  0.10372458,  0.22753729,  0.22099499,  0.14258969,\n",
       "         0.23928535,  0.25840048,  0.26085376,  0.13816696,  0.06436335,\n",
       "         0.20597878,  0.01742803,  0.21132592,  0.20286964,  0.01453145,\n",
       "         0.17039345,  0.15358979,  0.1834174 ,  0.04249842,  0.10256832,\n",
       "         0.22799663,  0.10446933,  0.23663968,  0.22487053,  0.12795256,\n",
       "         0.21009588,  0.22876753,  0.25088597,  0.12290456,  0.13178394],\n",
       "       [-0.23385713, -0.05970609, -0.21518136, -0.23107671,  0.18611302,\n",
       "         0.15189161,  0.06016536, -0.0347675 ,  0.19034877,  0.36657547,\n",
       "        -0.10555215,  0.08997968, -0.08945723, -0.15229263,  0.20443045,\n",
       "         0.2327159 ,  0.19720728,  0.13032156,  0.183848  ,  0.28009203,\n",
       "        -0.21986638, -0.0454673 , -0.19987843, -0.21935186,  0.17230435,\n",
       "         0.14359317,  0.09796411, -0.00825724,  0.14188335,  0.27533947]])"
      ]
     },
     "execution_count": 13,
     "metadata": {},
     "output_type": "execute_result"
    }
   ],
   "source": [
    "# 단계 속성에 접근하기\n",
    "from sklearn.preprocessing import StandardScaler\n",
    "from sklearn.decomposition import PCA\n",
    "pipe = make_pipeline(StandardScaler(), PCA(n_components=2), StandardScaler())\n",
    "pipe.fit(cancer.data)\n",
    "\n",
    "# 'pca' 단계의 두 개 주성분을 추출한다.\n",
    "components = pipe.named_steps['pca'].components_"
   ]
  },
  {
   "cell_type": "code",
   "execution_count": 17,
   "metadata": {},
   "outputs": [
    {
     "data": {
      "text/plain": [
       "array([[-0.43570655, -0.34266946, -0.40809443, -0.5344574 , -0.14971847,\n",
       "         0.61034122, -0.72634347, -0.78538827,  0.03886087,  0.27497198,\n",
       "        -1.29780109,  0.04926005, -0.67336941, -0.93447426, -0.13939555,\n",
       "         0.45032641, -0.13009864, -0.10144273,  0.43432027,  0.71596578,\n",
       "        -1.09068862, -1.09463976, -0.85183755, -1.06406198, -0.74316099,\n",
       "         0.07252425, -0.82323903, -0.65321239, -0.64379499, -0.42026013]])"
      ]
     },
     "execution_count": 17,
     "metadata": {},
     "output_type": "execute_result"
    }
   ],
   "source": [
    "# 그리드 서치 안의 파이프라인 속성에 접근하기\n",
    "from sklearn.linear_model import LogisticRegression\n",
    "pipe = make_pipeline(StandardScaler(), LogisticRegression())\n",
    "param_grid = {'logisticregression__C': [0.01, 0.1, 1, 10, 100]}\n",
    "grid = GridSearchCV(pipe, param_grid=param_grid, cv=5)\n",
    "\n",
    "X_train, X_test, y_train, y_test = train_test_split(cancer.data, cancer.target, random_state=4)\n",
    "grid.fit(X_train, y_train)\n",
    "# 파이프라인의 두 단계 중 LogisticRegression 단계의 최적의 모델 확인하기\n",
    "grid.best_estimator_.named_steps['logisticregression']\n",
    "grid.best_estimator_.named_steps['logisticregression'].coef_\n"
   ]
  },
  {
   "cell_type": "markdown",
   "metadata": {},
   "source": [
    "### 전처리와 모델의, 매개변수를 위한 그리드 서치"
   ]
  },
  {
   "cell_type": "code",
   "execution_count": 33,
   "metadata": {},
   "outputs": [
    {
     "data": {
      "text/plain": [
       "<matplotlib.collections.PolyCollection at 0x1c1bc9c42e0>"
      ]
     },
     "execution_count": 33,
     "metadata": {},
     "output_type": "execute_result"
    },
    {
     "data": {
      "image/png": "[encoded data removed]",
      "text/plain": [
       "<Figure size 432x288 with 1 Axes>"
      ]
     },
     "metadata": {
      "needs_background": "light"
     },
     "output_type": "display_data"
    }
   ],
   "source": [
    "from sklearn.datasets import load_boston\n",
    "boston = load_boston()\n",
    "X_train, X_test, y_train, y_test = train_test_split(boston.data, boston.target, random_state=0)\n",
    "from sklearn.linear_model import Ridge\n",
    "from sklearn.preprocessing import PolynomialFeatures\n",
    "pipe = make_pipeline(StandardScaler(), PolynomialFeatures(), Ridge())\n",
    "\n",
    "# 각 단계의 매개변수를 한 번에 그리드서치 하기\n",
    "param_grid = {'polynomialfeatures__degree': [1, 2, 3], 'ridge__alpha': [0.001, 0.01, 0.1, 1, 10, 100]}\n",
    "grid = GridSearchCV(pipe, param_grid=param_grid, cv=5)\n",
    "grid.fit(X_train, y_train)\n",
    "\n",
    "# 히트맵으로 나타내기\n",
    "mglearn.tools.heatmap(grid.cv_results_['mean_test_score'].reshape(3,-1),\n",
    "                      xlabel='ridge__alpha', ylabel='polynomialfeatures__degree',\n",
    "                      xticklabels=param_grid['ridge__alpha'],\n",
    "                      yticklabels=param_grid['polynomialfeatures__degree'], vmin=0)"
   ]
  },
  {
   "cell_type": "markdown",
   "metadata": {},
   "source": [
    "### 모델 선택을 위한 그리드 서치"
   ]
  },
  {
   "cell_type": "code",
   "execution_count": null,
   "metadata": {},
   "outputs": [],
   "source": [
    "# RandomForestClassifier와 SVC 비교하기\n",
    "pipe = make_pipeline([()])"
   ]
  }
 ],
 "metadata": {
  "interpreter": {
   "hash": "0fa4360fac3e96b45dfbe1673664e4bea8b8cb4d6cd41c4e45be64e581f59653"
  },
  "kernelspec": {
   "display_name": "Python 3.9.7 ('base')",
   "language": "python",
   "name": "python3"
  },
  "language_info": {
   "codemirror_mode": {
    "name": "ipython",
    "version": 3
   },
   "file_extension": ".py",
   "mimetype": "text/x-python",
   "name": "python",
   "nbconvert_exporter": "python",
   "pygments_lexer": "ipython3",
   "version": "3.9.7"
  },
  "orig_nbformat": 4
 },
 "nbformat": 4,
 "nbformat_minor": 2
}
